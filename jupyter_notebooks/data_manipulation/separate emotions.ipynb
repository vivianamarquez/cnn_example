{
 "cells": [
  {
   "cell_type": "code",
   "execution_count": 1,
   "id": "f0f036ac-03ca-4c7f-b3f5-85bd91b66b5c",
   "metadata": {},
   "outputs": [],
   "source": [
    "import os\n",
    "import shutil"
   ]
  },
  {
   "cell_type": "code",
   "execution_count": 2,
   "id": "9cd3d1b6-05a1-4c87-9c69-f39e09fb5dbd",
   "metadata": {},
   "outputs": [],
   "source": [
    "origin_path = \"../data/all_faces/faces_120x180\""
   ]
  },
  {
   "cell_type": "code",
   "execution_count": 3,
   "id": "36ff8a5a-bdf8-437f-b611-e29aab47d65d",
   "metadata": {},
   "outputs": [],
   "source": [
    "destination_path = \"../data/emotions\""
   ]
  },
  {
   "cell_type": "code",
   "execution_count": 5,
   "id": "4991c47f-1795-46ad-9758-80fa78f51c1e",
   "metadata": {},
   "outputs": [],
   "source": [
    "for root, dirs, files in os.walk(origin_path):\n",
    "    for file in files:\n",
    "        if file.endswith(\".pgm\"):\n",
    "            # Split the filename to extract the emotion\n",
    "            _, _, emotion, _ = file.split(\"_\")\n",
    "            \n",
    "            # Create the destination folder for the emotion if it doesn't exist\n",
    "            emotion_folder = os.path.join(destination_path, emotion)\n",
    "            if not os.path.exists(emotion_folder):\n",
    "                os.makedirs(emotion_folder)\n",
    "                \n",
    "            # Define the source and destination file paths\n",
    "            src_file = os.path.join(root, file)\n",
    "            dest_file = os.path.join(emotion_folder, file)\n",
    "            \n",
    "            # Copy the file to the destination folder\n",
    "            shutil.copy(src_file, dest_file)"
   ]
  }
 ],
 "metadata": {
  "kernelspec": {
   "display_name": "Python 3 (ipykernel)",
   "language": "python",
   "name": "python3"
  },
  "language_info": {
   "codemirror_mode": {
    "name": "ipython",
    "version": 3
   },
   "file_extension": ".py",
   "mimetype": "text/x-python",
   "name": "python",
   "nbconvert_exporter": "python",
   "pygments_lexer": "ipython3",
   "version": "3.12.4"
  }
 },
 "nbformat": 4,
 "nbformat_minor": 5
}
