{
 "cells": [
  {
   "cell_type": "code",
   "execution_count": 7,
   "id": "9f27c690-b85f-47b2-bf5f-92e3b5e7ac6c",
   "metadata": {},
   "outputs": [],
   "source": [
    "import os\n",
    "import shutil"
   ]
  },
  {
   "cell_type": "code",
   "execution_count": 12,
   "id": "b6c06cdf-e5d7-4d21-8a2b-7d90398019db",
   "metadata": {},
   "outputs": [],
   "source": [
    "base_path = \"faces\"\n",
    "current_directory = os.getcwd()"
   ]
  },
  {
   "cell_type": "code",
   "execution_count": 9,
   "id": "fe6f4f23-58a5-4dc7-b043-3f5ae20886c5",
   "metadata": {},
   "outputs": [],
   "source": [
    "new_folders = ['face_0', 'face_2', 'face_4']"
   ]
  },
  {
   "cell_type": "code",
   "execution_count": 13,
   "id": "aad78041-af8b-434a-af1c-fdb513ea5186",
   "metadata": {},
   "outputs": [],
   "source": [
    "for folder in new_folders:\n",
    "    os.makedirs(os.path.join(current_directory, folder), exist_ok=True)"
   ]
  },
  {
   "cell_type": "code",
   "execution_count": 14,
   "id": "76d18299-cbd3-4268-afaa-d95be4d0f41c",
   "metadata": {},
   "outputs": [],
   "source": [
    "for person_folder in os.listdir(base_path):\n",
    "    person_folder_path = os.path.join(base_path, person_folder)\n",
    "\n",
    "    if os.path.isdir(person_folder_path):\n",
    "        for image_file in os.listdir(person_folder_path):\n",
    "            if image_file.endswith('.pgm'):\n",
    "                if '_2' in image_file:\n",
    "                    target_folder = 'face_2'\n",
    "                elif '_4' in image_file:\n",
    "                    target_folder = 'face_4'\n",
    "                else:\n",
    "                    target_folder = 'face_0'\n",
    "                \n",
    "                target_person_folder = os.path.join(current_directory, target_folder, person_folder)\n",
    "                os.makedirs(target_person_folder, exist_ok=True)\n",
    "\n",
    "                shutil.copy(\n",
    "                    os.path.join(person_folder_path, image_file),\n",
    "                    os.path.join(target_person_folder, image_file)\n",
    "                )"
   ]
  },
  {
   "cell_type": "code",
   "execution_count": null,
   "id": "67602c40-2417-420e-b195-178fd01c0270",
   "metadata": {},
   "outputs": [],
   "source": []
  }
 ],
 "metadata": {
  "kernelspec": {
   "display_name": "Python 3 (ipykernel)",
   "language": "python",
   "name": "python3"
  },
  "language_info": {
   "codemirror_mode": {
    "name": "ipython",
    "version": 3
   },
   "file_extension": ".py",
   "mimetype": "text/x-python",
   "name": "python",
   "nbconvert_exporter": "python",
   "pygments_lexer": "ipython3",
   "version": "3.12.4"
  }
 },
 "nbformat": 4,
 "nbformat_minor": 5
}
